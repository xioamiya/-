{
 "cells": [
  {
   "cell_type": "code",
   "execution_count": 1,
   "metadata": {},
   "outputs": [
    {
     "name": "stdout",
     "output_type": "stream",
     "text": [
      "time.struct_time(tm_year=1970, tm_mon=1, tm_mday=1, tm_hour=0, tm_min=0, tm_sec=0, tm_wday=3, tm_yday=1, tm_isdst=0)\n",
      "time.struct_time(tm_year=2023, tm_mon=11, tm_mday=9, tm_hour=8, tm_min=53, tm_sec=59, tm_wday=3, tm_yday=313, tm_isdst=0)\n",
      "1699520039.4720433\n",
      "time.struct_time(tm_year=2023, tm_mon=11, tm_mday=9, tm_hour=16, tm_min=53, tm_sec=59, tm_wday=3, tm_yday=313, tm_isdst=0)\n"
     ]
    }
   ],
   "source": [
    "\n",
    "import time\n",
    "print(time.gmtime(0))\n",
    "print(time.gmtime()) \n",
    "print(time.time()) \n",
    "print(time.localtime())"
   ]
  },
  {
   "cell_type": "code",
   "execution_count": 2,
   "metadata": {},
   "outputs": [
    {
     "name": "stdout",
     "output_type": "stream",
     "text": [
      "local struct_time: time.struct_time(tm_year=1971, tm_mon=1, tm_mday=1, tm_hour=8, tm_min=0, tm_sec=0, tm_wday=4, tm_yday=1, tm_isdst=0)\n",
      "local timestamp: 31536000.0\n"
     ]
    }
   ],
   "source": [
    "import time\n",
    "t_tup = time.localtime(365 * 24 * 60 * 60)\n",
    "print('local struct_time:',t_tup)\n",
    "print('local timestamp:',time.mktime(t_tup))"
   ]
  },
  {
   "cell_type": "code",
   "execution_count": 3,
   "metadata": {},
   "outputs": [
    {
     "name": "stdout",
     "output_type": "stream",
     "text": [
      "2023-11-09 16:54:20\n",
      "1970-01-01 00:00:00\n",
      "1970-01-01 08:00:00\n"
     ]
    }
   ],
   "source": [
    "import time\n",
    "print(time.strftime('%Y-%m-%d %X'))\n",
    "print(time.strftime('%Y-%m-%d %X',time.gmtime(0)))\n",
    "print(time.strftime('%Y-%m-%d %X',time.localtime(0)))"
   ]
  },
  {
   "cell_type": "code",
   "execution_count": 4,
   "metadata": {},
   "outputs": [
    {
     "name": "stdout",
     "output_type": "stream",
     "text": [
      "0.2852464697728908\n",
      "38.68975659544942\n",
      "97\n",
      "79\n",
      "3\n",
      "[3, 4, 2]\n",
      "[4, 3, 2, 1]\n"
     ]
    }
   ],
   "source": [
    "import random\n",
    "print(random.random())\n",
    "print(random.uniform(1, 100)) \n",
    "print(random.randint(1, 100)) \n",
    "print(random.randrange(1, 100, 3)) \n",
    "print(random.choice([1, 2, 3, 4])) \n",
    "print(random.sample([1, 2, 3, 4], 3)) \n",
    "seq = [1, 2, 3, 4]\n",
    "random.shuffle(seq) \n",
    "print(seq)"
   ]
  },
  {
   "cell_type": "code",
   "execution_count": 8,
   "metadata": {},
   "outputs": [
    {
     "name": "stdout",
     "output_type": "stream",
     "text": [
      "5\n",
      "5\n"
     ]
    }
   ],
   "source": [
    "def verification_code(v):\n",
    "    code = '' \n",
    "    for i in range(v):\n",
    "        num = random.randint(0,9) \n",
    "        alf_big = chr(random.randint(65, 90)) \n",
    "        alf_small = chr(random.randint(97,122)) #随机小写的 A-Z\n",
    "        add = random.choice([num,alf_big,alf_small]) #choice 随机返回序列内的元素\n",
    "        print(add)\n",
    "        code += str(add)\n",
    "        return code\n",
    "print(verification_code(10))"
   ]
  },
  {
   "cell_type": "code",
   "execution_count": 10,
   "metadata": {},
   "outputs": [
    {
     "ename": "TypeError",
     "evalue": "write() argument must be str, not set",
     "output_type": "error",
     "traceback": [
      "\u001b[1;31m---------------------------------------------------------------------------\u001b[0m",
      "\u001b[1;31mTypeError\u001b[0m                                 Traceback (most recent call last)",
      "\u001b[1;32me:\\f_learning\\test.ipynb Cell 6\u001b[0m line \u001b[0;36m3\n\u001b[0;32m      <a href='vscode-notebook-cell:/e%3A/f_learning/test.ipynb#W5sZmlsZQ%3D%3D?line=0'>1</a>\u001b[0m d \u001b[39m=\u001b[39m {\u001b[39m'\u001b[39m\u001b[39ma\u001b[39m\u001b[39m'\u001b[39m,\u001b[39m'\u001b[39m\u001b[39mb\u001b[39m\u001b[39m'\u001b[39m,\u001b[39m'\u001b[39m\u001b[39mc\u001b[39m\u001b[39m'\u001b[39m,\u001b[39m'\u001b[39m\u001b[39md\u001b[39m\u001b[39m'\u001b[39m}\n\u001b[0;32m      <a href='vscode-notebook-cell:/e%3A/f_learning/test.ipynb#W5sZmlsZQ%3D%3D?line=1'>2</a>\u001b[0m \u001b[39mwith\u001b[39;00m \u001b[39mopen\u001b[39m(\u001b[39m'\u001b[39m\u001b[39mtest\u001b[39m\u001b[39m'\u001b[39m,\u001b[39m'\u001b[39m\u001b[39mw\u001b[39m\u001b[39m'\u001b[39m) \u001b[39mas\u001b[39;00m f:\n\u001b[1;32m----> <a href='vscode-notebook-cell:/e%3A/f_learning/test.ipynb#W5sZmlsZQ%3D%3D?line=2'>3</a>\u001b[0m     f\u001b[39m.\u001b[39;49mwrite(d)\n",
      "\u001b[1;31mTypeError\u001b[0m: write() argument must be str, not set"
     ]
    }
   ],
   "source": [
    "d = {'a','b','c','d'}\n",
    "with open('test','w') as f:\n",
    "    f.write(d)"
   ]
  },
  {
   "cell_type": "code",
   "execution_count": 11,
   "metadata": {},
   "outputs": [
    {
     "name": "stdout",
     "output_type": "stream",
     "text": [
      "b'\\x80\\x04\\x95\\x15\\x00\\x00\\x00\\x00\\x00\\x00\\x00}\\x94(\\x8c\\x01a\\x94\\x8c\\x01b\\x94\\x8c\\x01c\\x94\\x8c\\x01d\\x94u.'\n"
     ]
    }
   ],
   "source": [
    "import pickle\n",
    "dic = {'a':'b','c':'d'}\n",
    "p = pickle.dumps(dic)\n",
    "print(p)"
   ]
  },
  {
   "cell_type": "code",
   "execution_count": 12,
   "metadata": {},
   "outputs": [
    {
     "name": "stdout",
     "output_type": "stream",
     "text": [
      "{'a': 'b', 'c': 'd'}\n"
     ]
    }
   ],
   "source": [
    "d = pickle.loads(p)\n",
    "print(d) #{'a': 'b', 'c': 'd'}\n",
    "f = open('test','wb')\n",
    "f.write(p)\n",
    "f.close()"
   ]
  },
  {
   "cell_type": "code",
   "execution_count": 13,
   "metadata": {},
   "outputs": [
    {
     "ename": "SyntaxError",
     "evalue": "invalid syntax. Perhaps you forgot a comma? (4114461143.py, line 3)",
     "output_type": "error",
     "traceback": [
      "\u001b[1;36m  Cell \u001b[1;32mIn[13], line 3\u001b[1;36m\u001b[0m\n\u001b[1;33m    s = 'abdsadqwead' l = [1,2,3,4]\u001b[0m\n\u001b[1;37m        ^\u001b[0m\n\u001b[1;31mSyntaxError\u001b[0m\u001b[1;31m:\u001b[0m invalid syntax. Perhaps you forgot a comma?\n"
     ]
    }
   ],
   "source": [
    "import pickle\n",
    "dic = {'a':'b','c':'d'}\n",
    "s = 'abdsadqwead' l = [1,2,3,4]\n",
    "with open('test','wb')as f:\n",
    "    pickle.dump(dic,f)\n",
    "    pickle.dump(s,f)\n",
    "    pickle.dump(l,f)\n",
    "with open('test','rb')as f:\n",
    "    print(pickle.load(f))\n",
    "    print(pickle.load(f))\n",
    "    print(pickle.load(f))\n",
    "with open('test','r')as f:\n",
    "    print(f)"
   ]
  },
  {
   "cell_type": "code",
   "execution_count": 15,
   "metadata": {},
   "outputs": [
    {
     "name": "stdout",
     "output_type": "stream",
     "text": [
      "{\"a\": \"b\", \"c\": \"d\"} <class 'str'>\n",
      "{'a': 'b', 'c': 'd'} <class 'dict'>\n"
     ]
    }
   ],
   "source": [
    "import json\n",
    "dic = {'a': 'b', 'c': 'd'}\n",
    "js_obj = json.dumps(dic)\n",
    "print(js_obj, type(js_obj))\n",
    "dic_obj = json.loads(js_obj)\n",
    "print(dic_obj, type(dic_obj))"
   ]
  },
  {
   "cell_type": "code",
   "execution_count": 16,
   "metadata": {},
   "outputs": [],
   "source": [
    "import json\n",
    "dic = {'a':1,'b':[2,3,'c']}\n",
    "lis = [1,2,3]\n",
    "with open('js_text','w',encoding='UTF-8')as f1:\n",
    "    json.dump(dic,f1)"
   ]
  },
  {
   "cell_type": "code",
   "execution_count": 17,
   "metadata": {},
   "outputs": [
    {
     "name": "stdout",
     "output_type": "stream",
     "text": [
      "{'a': 1, 'b': [2, 3, 'c']}\n"
     ]
    }
   ],
   "source": [
    "with open('js_text','r',encoding='UTF-8')as f2:\n",
    "    js_obj1 = json.load(f2) \n",
    "    print(js_obj1)"
   ]
  },
  {
   "cell_type": "code",
   "execution_count": 18,
   "metadata": {},
   "outputs": [
    {
     "ename": "IndentationError",
     "evalue": "expected an indented block after 'for' statement on line 8 (2642850847.py, line 9)",
     "output_type": "error",
     "traceback": [
      "\u001b[1;36m  Cell \u001b[1;32mIn[18], line 9\u001b[1;36m\u001b[0m\n\u001b[1;33m    ret = json.loads(line.strip())\u001b[0m\n\u001b[1;37m    ^\u001b[0m\n\u001b[1;31mIndentationError\u001b[0m\u001b[1;31m:\u001b[0m expected an indented block after 'for' statement on line 8\n"
     ]
    }
   ],
   "source": [
    "dic = {'a':1,'b':[2,3,'c']}\n",
    "lis = [1,2,3]\n",
    "with open('js_text','w',encoding='UTF-8')as f1:\n",
    "    json.dump(dic,f1)\n",
    "    f1.write('\\n') \n",
    "    json.dump(lis,f1)\n",
    "with open('js_text','r',encoding='UTF-8')as f2:\n",
    "    for line in f2:\n",
    "    ret = json.loads(line.strip())\n",
    "    print(ret,type(ret))"
   ]
  },
  {
   "cell_type": "code",
   "execution_count": 19,
   "metadata": {},
   "outputs": [],
   "source": [
    "import shelve\n",
    "d = {'a':1,'b':2}\n",
    "l = [1,2,3]\n",
    "t = (1,2,3)\n",
    "s = 'abc' \n",
    "def foo(x):\n",
    "    return x\n",
    "obj = shelve.open('shelve_file')"
   ]
  },
  {
   "cell_type": "code",
   "execution_count": 20,
   "metadata": {},
   "outputs": [
    {
     "name": "stdout",
     "output_type": "stream",
     "text": [
      "3\n"
     ]
    }
   ],
   "source": [
    "obj['key'] = foo(3)\n",
    "obj.close()\n",
    "obj = shelve.open('shelve_file')\n",
    "print(obj['key']) #3\n",
    "obj.close()"
   ]
  },
  {
   "cell_type": "code",
   "execution_count": 21,
   "metadata": {},
   "outputs": [
    {
     "name": "stdout",
     "output_type": "stream",
     "text": [
      "['123', '223', '333', '22', '33']\n"
     ]
    }
   ],
   "source": [
    "import re\n",
    "res = re.findall(r'\\d+','123+223-333,22,33')\n",
    "print(res) "
   ]
  },
  {
   "cell_type": "code",
   "execution_count": 22,
   "metadata": {},
   "outputs": [
    {
     "name": "stdout",
     "output_type": "stream",
     "text": [
      "['1', '2', '3', '2', '3', '4']\n"
     ]
    }
   ],
   "source": [
    "res2 = re.findall(r'[0-9]','123,abcd234') \n",
    "print(res2) "
   ]
  },
  {
   "cell_type": "code",
   "execution_count": 23,
   "metadata": {},
   "outputs": [
    {
     "name": "stdout",
     "output_type": "stream",
     "text": [
      "a\n",
      "<re.Match object; span=(0, 1), match='a'>\n"
     ]
    }
   ],
   "source": [
    "res3 = re.search('a','abc')\n",
    "print(res3.group())\n",
    "print(res3)"
   ]
  },
  {
   "cell_type": "code",
   "execution_count": 24,
   "metadata": {},
   "outputs": [
    {
     "name": "stdout",
     "output_type": "stream",
     "text": [
      "None\n"
     ]
    }
   ],
   "source": [
    "res4= re.match('b','abc') \n",
    "print(res4)"
   ]
  },
  {
   "cell_type": "code",
   "execution_count": 25,
   "metadata": {},
   "outputs": [
    {
     "name": "stdout",
     "output_type": "stream",
     "text": [
      "['baidu', 'google']\n"
     ]
    }
   ],
   "source": [
    "res5 = re.findall(r'www.(baidu|google).com','www.baidu.com, www.google.com,www.yahoo.com')\n",
    "print(res5)"
   ]
  },
  {
   "cell_type": "code",
   "execution_count": 26,
   "metadata": {},
   "outputs": [
    {
     "name": "stdout",
     "output_type": "stream",
     "text": [
      "['www.baidu.com', 'www.google.com']\n"
     ]
    }
   ],
   "source": [
    "res6= re.findall(r'www.(?:baidu|google).com','www.baidu.com, www.google.com,www.yahoo.com') #?:取消分组权限 ['www.baidu.com']\n",
    "print(res6)"
   ]
  },
  {
   "cell_type": "code",
   "execution_count": 27,
   "metadata": {},
   "outputs": [
    {
     "name": "stdout",
     "output_type": "stream",
     "text": [
      "['a', 'b', 'c', '']\n"
     ]
    }
   ],
   "source": [
    "res7 = re.split('\\d+','a1b2c3')\n",
    "print(res7)"
   ]
  },
  {
   "cell_type": "code",
   "execution_count": 28,
   "metadata": {},
   "outputs": [
    {
     "name": "stdout",
     "output_type": "stream",
     "text": [
      "['a', '1', 'b', '2', 'c', '3', '']\n"
     ]
    }
   ],
   "source": [
    "res8 = re.split('(\\d+)','a1b2c3')\n",
    "print(res8)"
   ]
  },
  {
   "cell_type": "code",
   "execution_count": null,
   "metadata": {},
   "outputs": [],
   "source": []
  }
 ],
 "metadata": {
  "kernelspec": {
   "display_name": "Python 3",
   "language": "python",
   "name": "python3"
  },
  "language_info": {
   "codemirror_mode": {
    "name": "ipython",
    "version": 3
   },
   "file_extension": ".py",
   "mimetype": "text/x-python",
   "name": "python",
   "nbconvert_exporter": "python",
   "pygments_lexer": "ipython3",
   "version": "3.10.0"
  },
  "orig_nbformat": 4
 },
 "nbformat": 4,
 "nbformat_minor": 2
}
