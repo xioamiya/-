{
 "cells": [
  {
   "cell_type": "code",
   "execution_count": 7,
   "metadata": {},
   "outputs": [
    {
     "name": "stdout",
     "output_type": "stream",
     "text": [
      "Action: 0, Next State: 10, Reward: -1, Done: False\n",
      "Action: 2, Next State: 10, Reward: -1, Done: False\n",
      "Action: 1, Next State: 15, Reward: -1, Done: False\n",
      "Action: 2, Next State: 15, Reward: -1, Done: False\n",
      "Action: 1, Next State: 15, Reward: -1, Done: False\n",
      "Action: 3, Next State: 16, Reward: -100, Done: True\n"
     ]
    }
   ],
   "source": [
    "#悬崖漫步环境\n",
    "import matplotlib.pyplot as plt\n",
    "import numpy as np\n",
    "from tqdm import tqdm\n",
    "\n",
    "class CliffWalkingEnv:\n",
    "    def __init__(self,ncol, nrow) -> None:\n",
    "        self.nrow = nrow\n",
    "        self.ncol = ncol\n",
    "        self.x = 0\n",
    "        self.y = self.nrow - 1\n",
    "    def step(self, action):\n",
    "        change = [[0,-1],[0,1],[-1,0],[1,0]]\n",
    "        self.x = min(self.ncol - 1, max(0,self.x+change[action][0]))\n",
    "        self.y = min(self.nrow - 1, max(0,self.y+change[action][1]))\n",
    "        next_state = self.y * self.ncol + self.x\n",
    "        reward = -1\n",
    "        done = False\n",
    "        if self.y == self.nrow - 1 and self.x > 0:\n",
    "            done = True\n",
    "            if self.x != self.ncol - 1:\n",
    "                reward = -100\n",
    "        return next_state,reward,done\n",
    "    \n",
    "    def reset(self):\n",
    "        self.x = 0\n",
    "        self.y = self.nrow - 1\n",
    "        return self.y * self.ncol + self.x\n",
    "env = CliffWalkingEnv(ncol=5, nrow=4)\n",
    "state = env.reset()\n",
    "\n",
    "for _ in range(10):\n",
    "    action = np.random.choice([0, 1, 2, 3])  # Random action selection\n",
    "    next_state, reward, done = env.step(action)\n",
    "    print(f\"Action: {action}, Next State: {next_state}, Reward: {reward}, Done: {done}\")\n",
    "    if done:\n",
    "        break\n"
   ]
  },
  {
   "cell_type": "code",
   "execution_count": 13,
   "metadata": {},
   "outputs": [
    {
     "name": "stderr",
     "output_type": "stream",
     "text": [
      "Iteration 0:   0%|          | 0/50 [00:00<?, ?it/s]"
     ]
    },
    {
     "name": "stderr",
     "output_type": "stream",
     "text": [
      "Iteration 0:   2%|▏         | 1/50 [00:00<00:00, 1002.94it/s]\n"
     ]
    },
    {
     "ename": "IndexError",
     "evalue": "list index out of range",
     "output_type": "error",
     "traceback": [
      "\u001b[1;31m---------------------------------------------------------------------------\u001b[0m",
      "\u001b[1;31mIndexError\u001b[0m                                Traceback (most recent call last)",
      "\u001b[1;32me:\\f_learning\\时序差分.ipynb Cell 2\u001b[0m line \u001b[0;36m4\n\u001b[0;32m     <a href='vscode-notebook-cell:/e%3A/f_learning/%E6%97%B6%E5%BA%8F%E5%B7%AE%E5%88%86.ipynb#W1sZmlsZQ%3D%3D?line=46'>47</a>\u001b[0m done \u001b[39m=\u001b[39m \u001b[39mFalse\u001b[39;00m\n\u001b[0;32m     <a href='vscode-notebook-cell:/e%3A/f_learning/%E6%97%B6%E5%BA%8F%E5%B7%AE%E5%88%86.ipynb#W1sZmlsZQ%3D%3D?line=47'>48</a>\u001b[0m \u001b[39mwhile\u001b[39;00m \u001b[39mnot\u001b[39;00m done:\n\u001b[1;32m---> <a href='vscode-notebook-cell:/e%3A/f_learning/%E6%97%B6%E5%BA%8F%E5%B7%AE%E5%88%86.ipynb#W1sZmlsZQ%3D%3D?line=48'>49</a>\u001b[0m     next_state, reward, done \u001b[39m=\u001b[39m env\u001b[39m.\u001b[39;49mstep(action)\n\u001b[0;32m     <a href='vscode-notebook-cell:/e%3A/f_learning/%E6%97%B6%E5%BA%8F%E5%B7%AE%E5%88%86.ipynb#W1sZmlsZQ%3D%3D?line=49'>50</a>\u001b[0m     next_action \u001b[39m=\u001b[39m agent\u001b[39m.\u001b[39mtake_action(next_state)\n\u001b[0;32m     <a href='vscode-notebook-cell:/e%3A/f_learning/%E6%97%B6%E5%BA%8F%E5%B7%AE%E5%88%86.ipynb#W1sZmlsZQ%3D%3D?line=50'>51</a>\u001b[0m     episode_return \u001b[39m+\u001b[39m\u001b[39m=\u001b[39m reward\n",
      "\u001b[1;32me:\\f_learning\\时序差分.ipynb Cell 2\u001b[0m line \u001b[0;36m1\n\u001b[0;32m     <a href='vscode-notebook-cell:/e%3A/f_learning/%E6%97%B6%E5%BA%8F%E5%B7%AE%E5%88%86.ipynb#W1sZmlsZQ%3D%3D?line=11'>12</a>\u001b[0m \u001b[39mdef\u001b[39;00m \u001b[39mstep\u001b[39m(\u001b[39mself\u001b[39m, action):\n\u001b[0;32m     <a href='vscode-notebook-cell:/e%3A/f_learning/%E6%97%B6%E5%BA%8F%E5%B7%AE%E5%88%86.ipynb#W1sZmlsZQ%3D%3D?line=12'>13</a>\u001b[0m     change \u001b[39m=\u001b[39m [[\u001b[39m0\u001b[39m,\u001b[39m-\u001b[39m\u001b[39m1\u001b[39m],[\u001b[39m0\u001b[39m,\u001b[39m1\u001b[39m],[\u001b[39m-\u001b[39m\u001b[39m1\u001b[39m,\u001b[39m0\u001b[39m],[\u001b[39m1\u001b[39m,\u001b[39m0\u001b[39m]]\n\u001b[1;32m---> <a href='vscode-notebook-cell:/e%3A/f_learning/%E6%97%B6%E5%BA%8F%E5%B7%AE%E5%88%86.ipynb#W1sZmlsZQ%3D%3D?line=13'>14</a>\u001b[0m     \u001b[39mself\u001b[39m\u001b[39m.\u001b[39mx \u001b[39m=\u001b[39m \u001b[39mmin\u001b[39m(\u001b[39mself\u001b[39m\u001b[39m.\u001b[39mncol \u001b[39m-\u001b[39m \u001b[39m1\u001b[39m, \u001b[39mmax\u001b[39m(\u001b[39m0\u001b[39m,\u001b[39mself\u001b[39m\u001b[39m.\u001b[39mx\u001b[39m+\u001b[39mchange[action][\u001b[39m0\u001b[39m]))\n\u001b[0;32m     <a href='vscode-notebook-cell:/e%3A/f_learning/%E6%97%B6%E5%BA%8F%E5%B7%AE%E5%88%86.ipynb#W1sZmlsZQ%3D%3D?line=14'>15</a>\u001b[0m     \u001b[39mself\u001b[39m\u001b[39m.\u001b[39my \u001b[39m=\u001b[39m \u001b[39mmin\u001b[39m(\u001b[39mself\u001b[39m\u001b[39m.\u001b[39mnrow \u001b[39m-\u001b[39m \u001b[39m1\u001b[39m, \u001b[39mmax\u001b[39m(\u001b[39m0\u001b[39m,\u001b[39mself\u001b[39m\u001b[39m.\u001b[39my\u001b[39m+\u001b[39mchange[action][\u001b[39m1\u001b[39m]))\n\u001b[0;32m     <a href='vscode-notebook-cell:/e%3A/f_learning/%E6%97%B6%E5%BA%8F%E5%B7%AE%E5%88%86.ipynb#W1sZmlsZQ%3D%3D?line=15'>16</a>\u001b[0m     next_state \u001b[39m=\u001b[39m \u001b[39mself\u001b[39m\u001b[39m.\u001b[39my \u001b[39m*\u001b[39m \u001b[39mself\u001b[39m\u001b[39m.\u001b[39mncol \u001b[39m+\u001b[39m \u001b[39mself\u001b[39m\u001b[39m.\u001b[39mx\n",
      "\u001b[1;31mIndexError\u001b[0m: list index out of range"
     ]
    }
   ],
   "source": [
    "#使用Sarsa算法\n",
    "class Sarsa:\n",
    "    def __init__(self,ncol,nrow,epsilon,alpha,gamma, n_action):\n",
    "        self.Q_table = np.zeros([nrow*ncol,n_action])\n",
    "        self.n_action = n_action\n",
    "        self.alpha = alpha\n",
    "        self.gamma = gamma\n",
    "        self.epsilon = epsilon\n",
    "    def take_action(self,state):\n",
    "        if np.random.random() < self.epsilon:\n",
    "            action = np.random.randint(self.n_action)\n",
    "        else:\n",
    "            action = np.argmax(self.Q_table[state])\n",
    "        return action\n",
    "    \n",
    "    def best_action(self, state):\n",
    "        Q_max = np.max(self.Q_table[state])\n",
    "        a = [0 for _ in range(self.n_action)]\n",
    "        for i in range(self.n_action):\n",
    "            if self.Q_table[state, i] == Q_max:\n",
    "                a[i] = 1\n",
    "        return a\n",
    "    \n",
    "    def update(self, s0, a0, r, s1, a1):\n",
    "        td_error = r+self.gamma * self.Q_table[s1,a1] - self.Q_table[s0,a0]\n",
    "        self.Q_table[s0,a0] += self.alpha * td_error\n",
    "\n",
    "ncol = 12\n",
    "nrow = 4\n",
    "env = CliffWalkingEnv(ncol, nrow)\n",
    "np.random.seed(42)\n",
    "epsilon = 0.1\n",
    "alpha = 0.1\n",
    "gamma = 0.9\n",
    "n_action = 4  # Number of actions\n",
    "agent = Sarsa(ncol, nrow, epsilon, alpha, gamma, n_action)\n",
    "\n",
    "num_episodes = 500\n",
    "\n",
    "return_list = []\n",
    "\n",
    "for i in range(10):\n",
    "    with tqdm(total=int(num_episodes/10), desc='Iteration %d' % i) as pbar:\n",
    "        for i_episode in range(int(num_episodes/10)):\n",
    "            episode_return = 0\n",
    "            state = env.reset()\n",
    "            action = agent.take_action(state)  # Initialize action\n",
    "            done = False\n",
    "            while not done:\n",
    "                next_state, reward, done = env.step(action)\n",
    "                next_action = agent.take_action(next_state)\n",
    "                episode_return += reward\n",
    "                agent.update(state, action, reward, next_state, next_action)\n",
    "\n",
    "                state = next_state\n",
    "                action = next_action  # Update action\n",
    "            return_list.append(episode_return)\n",
    "            if (i_episode+1) % 10 == 0:\n",
    "                pbar.set_postfix({'episode': '%d' % (num_episodes / 10 * i + i_episode+1),\n",
    "                                  'return': '%.3f' % np.mean(return_list[-10:])})\n",
    "            pbar.update(1)\n",
    "\n",
    "episodes_list = list(range(len(return_list)))\n",
    "plt.plot(episodes_list, return_list)\n",
    "plt.xlabel('Episodes')\n",
    "plt.ylabel('Returns')\n",
    "plt.show()\n"
   ]
  },
  {
   "cell_type": "code",
   "execution_count": null,
   "metadata": {},
   "outputs": [],
   "source": []
  }
 ],
 "metadata": {
  "kernelspec": {
   "display_name": "strong",
   "language": "python",
   "name": "python3"
  },
  "language_info": {
   "codemirror_mode": {
    "name": "ipython",
    "version": 3
   },
   "file_extension": ".py",
   "mimetype": "text/x-python",
   "name": "python",
   "nbconvert_exporter": "python",
   "pygments_lexer": "ipython3",
   "version": "3.10.0"
  }
 },
 "nbformat": 4,
 "nbformat_minor": 2
}
